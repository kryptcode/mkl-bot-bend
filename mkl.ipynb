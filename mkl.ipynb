{
 "cells": [
  {
   "cell_type": "code",
   "execution_count": 1,
   "metadata": {},
   "outputs": [],
   "source": [
    "# Chatbot with Context-Response Dataset"
   ]
  },
  {
   "cell_type": "code",
   "execution_count": 2,
   "metadata": {},
   "outputs": [
    {
     "data": {
      "text/html": [
       "<div>\n",
       "<style scoped>\n",
       "    .dataframe tbody tr th:only-of-type {\n",
       "        vertical-align: middle;\n",
       "    }\n",
       "\n",
       "    .dataframe tbody tr th {\n",
       "        vertical-align: top;\n",
       "    }\n",
       "\n",
       "    .dataframe thead th {\n",
       "        text-align: right;\n",
       "    }\n",
       "</style>\n",
       "<table border=\"1\" class=\"dataframe\">\n",
       "  <thead>\n",
       "    <tr style=\"text-align: right;\">\n",
       "      <th></th>\n",
       "      <th>Context</th>\n",
       "      <th>Response</th>\n",
       "    </tr>\n",
       "  </thead>\n",
       "  <tbody>\n",
       "    <tr>\n",
       "      <th>0</th>\n",
       "      <td>I'm going through some things with my feelings...</td>\n",
       "      <td>If everyone thinks you're worthless, then mayb...</td>\n",
       "    </tr>\n",
       "    <tr>\n",
       "      <th>1</th>\n",
       "      <td>I'm going through some things with my feelings...</td>\n",
       "      <td>Hello, and thank you for your question and see...</td>\n",
       "    </tr>\n",
       "    <tr>\n",
       "      <th>2</th>\n",
       "      <td>I'm going through some things with my feelings...</td>\n",
       "      <td>First thing I'd suggest is getting the sleep y...</td>\n",
       "    </tr>\n",
       "    <tr>\n",
       "      <th>3</th>\n",
       "      <td>I'm going through some things with my feelings...</td>\n",
       "      <td>Therapy is essential for those that are feelin...</td>\n",
       "    </tr>\n",
       "    <tr>\n",
       "      <th>4</th>\n",
       "      <td>I'm going through some things with my feelings...</td>\n",
       "      <td>I first want to let you know that you are not ...</td>\n",
       "    </tr>\n",
       "  </tbody>\n",
       "</table>\n",
       "</div>"
      ],
      "text/plain": [
       "                                             Context  \\\n",
       "0  I'm going through some things with my feelings...   \n",
       "1  I'm going through some things with my feelings...   \n",
       "2  I'm going through some things with my feelings...   \n",
       "3  I'm going through some things with my feelings...   \n",
       "4  I'm going through some things with my feelings...   \n",
       "\n",
       "                                            Response  \n",
       "0  If everyone thinks you're worthless, then mayb...  \n",
       "1  Hello, and thank you for your question and see...  \n",
       "2  First thing I'd suggest is getting the sleep y...  \n",
       "3  Therapy is essential for those that are feelin...  \n",
       "4  I first want to let you know that you are not ...  "
      ]
     },
     "execution_count": 2,
     "metadata": {},
     "output_type": "execute_result"
    }
   ],
   "source": [
    "import pandas as pd\n",
    "\n",
    "# Load the dataset\n",
    "file_path = 'C:/Users/koye/Documents/GitHub/mkl-bot-bend/train.csv'\n",
    "df = pd.read_csv(file_path, encoding='ISO-8859-1')\n",
    "\n",
    "df = df.fillna('')\n",
    "\n",
    "# Display the first few rows of the dataframe\n",
    "df.head()"
   ]
  },
  {
   "cell_type": "markdown",
   "metadata": {},
   "source": [
    "## Data Preprocessing\n"
   ]
  },
  {
   "cell_type": "code",
   "execution_count": 3,
   "metadata": {},
   "outputs": [],
   "source": [
    "from sklearn.feature_extraction.text import TfidfVectorizer\n",
    "\n",
    "# Combine all context and response into a single list\n",
    "all_text = df['Context'].tolist() + df['Response'].tolist()\n",
    "\n",
    "# Fit the TF-IDF vectorizer on the combined text\n",
    "vectorizer = TfidfVectorizer().fit(all_text)\n",
    "\n",
    "# Transform context and response text to TF-IDF vectors\n",
    "context_tfidf = vectorizer.transform(df['Context'])\n",
    "response_tfidf = vectorizer.transform(df['Response'])\n"
   ]
  },
  {
   "cell_type": "markdown",
   "metadata": {},
   "source": [
    "## Implementing the Chatbot"
   ]
  },
  {
   "cell_type": "code",
   "execution_count": 4,
   "metadata": {},
   "outputs": [
    {
     "name": "stdout",
     "output_type": "stream",
     "text": [
      "Chatbot response: Hi there, welcome. Im so sorry to hear that. Failing exams can be incredibly tough to deal with. Can you tell me more about how youre feeling?\n"
     ]
    }
   ],
   "source": [
    "from sklearn.metrics.pairwise import cosine_similarity\n",
    "import numpy as np\n",
    "\n",
    "def get_response(user_input):\n",
    "    # Transform the user input to a TF-IDF vector\n",
    "    user_tfidf = vectorizer.transform([user_input])\n",
    "    \n",
    "    # Compute cosine similarity with context vectors\n",
    "    similarities = cosine_similarity(user_tfidf, context_tfidf)\n",
    "    \n",
    "    # Find the index of the most similar context\n",
    "    best_match_index = np.argmax(similarities)\n",
    "    \n",
    "    # Return the corresponding response\n",
    "    return df['Response'].iloc[best_match_index]\n",
    "\n",
    "# Example interaction with the chatbot\n",
    "user_input = \"I'm feeling really down today.\"\n",
    "response = get_response(user_input)\n",
    "print(\"Chatbot response:\", response)"
   ]
  },
  {
   "cell_type": "markdown",
   "metadata": {},
   "source": [
    "## Interacting with the Chatbot"
   ]
  },
  {
   "cell_type": "code",
   "execution_count": 5,
   "metadata": {},
   "outputs": [
    {
     "name": "stdout",
     "output_type": "stream",
     "text": [
      "Chatbot: Its completely understandable to feel overwhelmed and sad. Divorce can be a huge shock, especially if its unexpected. Its important to allow yourself to feel those emotions.\n",
      "Chatbot: Hello, and thank you for your question. It certainly sounds like you don't like how things are going. Here are a few thoughts and ideas:1. If you haven't seen a primary care provider in a while, you may want to. There are health conditions that can affect your mood and energy levels, even at your age. It doesn't hurt to get checked out. If they find the cause, they may be able to treat it and improve the symptoms. In addition, most primary care providers are trained to be able to manage medication for patients who have mild, moderate, and sometimes severe depression. So, don't be surprised if your primary care doctor offers to put you on an anti-depressant if they diagnose you with depression. Medication is not the only way to treat depression, but sometimes it is necessary depending on different factors.2. You may want to consider counseling, since it is another effective way to treat depression. A counselor will help you explore the factors that may be leading to depressive symptoms in the first place. This could include thoughts, behaviors, beliefs, life experiences, and other things. 3. Finally, to answer your question about whether these feelings are \"normal.\" These symptoms could be the sign of an underlying general health or mental health condition. It is important to remember that even if these symptoms are \"abnormal\" it doesn't mean that YOU are. Millions of people struggle with depression. So remember, the symptoms are the problem, not YOU. Hope this helps. Be well.Robin J. Landwehr, DBH, LPC, NCC\n",
      "Chatbot: Hi there, welcome. Im really sorry to hear that. Thats a very difficult situation to deal with. How are you feeling right now?\n",
      "Chatbot: If everyone thinks you're worthless, then maybe you need to find new people to hang out with.Seriously, the social context in which a person lives is a big influence in self-esteem.Otherwise, you can go round and round trying to understand why you're not worthless, then go back to the same crowd and be knocked down again.There are many inspirational messages you can find in social media. Â Maybe read some of the ones which state that no person is worthless, and that everyone has a good purpose to their life.Also, since our culture is so saturated with the belief that if someone doesn't feel good about themselves that this is somehow terrible.Bad feelings are part of living. Â They are the motivation to remove ourselves from situations and relationships which do us more harm than good.Bad feelings do feel terrible. Â  Your feeling of worthlessness may be good in the sense of motivating you to find out that you are much better than your feelings today.\n",
      "Chatbot: If everyone thinks you're worthless, then maybe you need to find new people to hang out with.Seriously, the social context in which a person lives is a big influence in self-esteem.Otherwise, you can go round and round trying to understand why you're not worthless, then go back to the same crowd and be knocked down again.There are many inspirational messages you can find in social media. Â Maybe read some of the ones which state that no person is worthless, and that everyone has a good purpose to their life.Also, since our culture is so saturated with the belief that if someone doesn't feel good about themselves that this is somehow terrible.Bad feelings are part of living. Â They are the motivation to remove ourselves from situations and relationships which do us more harm than good.Bad feelings do feel terrible. Â  Your feeling of worthlessness may be good in the sense of motivating you to find out that you are much better than your feelings today.\n",
      "Chatbot: If everyone thinks you're worthless, then maybe you need to find new people to hang out with.Seriously, the social context in which a person lives is a big influence in self-esteem.Otherwise, you can go round and round trying to understand why you're not worthless, then go back to the same crowd and be knocked down again.There are many inspirational messages you can find in social media. Â Maybe read some of the ones which state that no person is worthless, and that everyone has a good purpose to their life.Also, since our culture is so saturated with the belief that if someone doesn't feel good about themselves that this is somehow terrible.Bad feelings are part of living. Â They are the motivation to remove ourselves from situations and relationships which do us more harm than good.Bad feelings do feel terrible. Â  Your feeling of worthlessness may be good in the sense of motivating you to find out that you are much better than your feelings today.\n"
     ]
    }
   ],
   "source": [
    "# Interact with the chatbot\n",
    "while True:\n",
    "    user_input = input(\"You: \")\n",
    "    if user_input.lower() in [\"exit\", \"quit\"]:\n",
    "        break\n",
    "    response = get_response(user_input)\n",
    "    print(\"Chatbot:\", response)"
   ]
  }
 ],
 "metadata": {
  "kernelspec": {
   "display_name": "Python 3",
   "language": "python",
   "name": "python3"
  },
  "language_info": {
   "codemirror_mode": {
    "name": "ipython",
    "version": 3
   },
   "file_extension": ".py",
   "mimetype": "text/x-python",
   "name": "python",
   "nbconvert_exporter": "python",
   "pygments_lexer": "ipython3",
   "version": "3.12.3"
  }
 },
 "nbformat": 4,
 "nbformat_minor": 2
}
